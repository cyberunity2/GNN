{
  "cells": [
    {
      "cell_type": "markdown",
      "metadata": {
        "id": "view-in-github",
        "colab_type": "text"
      },
      "source": [
        "<a href=\"https://colab.research.google.com/github/cyberunity2/GNN/blob/main/ogb_arxiv_template.ipynb\" target=\"_parent\"><img src=\"https://colab.research.google.com/assets/colab-badge.svg\" alt=\"Open In Colab\"/></a>"
      ]
    },
    {
      "cell_type": "markdown",
      "metadata": {
        "id": "ZEQpp4JVWg-z"
      },
      "source": [
        "# Introduction\n",
        "In this notebook, we will be building a Graph Convolutional Network on the `ogbn-arxiv` citation network and trying to match performance to the [OGB Leaderboard for Node Property Prediction](https://ogb.stanford.edu/docs/leader_nodeprop/#ogbn-arxiv).  Once we can faithfully re-create this, we will move on to implementing improvements and tweaks found in the [Bag of Tricks for Node Classification with Graph Neural Networks](https://arxiv.org/abs/2103.13355) paper.\n",
        "\n",
        "# What you need to do\n",
        "## Basics \n",
        "With few exceptions, you only need to implement the PyTorch/DGL model code and everything else is written to train and evaluate.  Sections you need to write code for will be marked with a \"TODO\" comment.  As a first pass, do not modify any of the code *except where indicated* so that troubleshooting will be easier if you run into problems.\n",
        "\n",
        "## Improvements\n",
        "Once you have a correct implementation and can match leaderboard performance, we can move on to experimentation.  In this section, we will implement a few ideas from the [\"Bag of Tricks\"](https://arxiv.org/abs/2103.13355) paper, which should give improvements above baseline GCN and move you several positions up the leaderboard.  \n",
        "\n",
        "## Statistics\n",
        "At the end of each section, there is code for repeating your experiment 10 times to collect statistics on performance since any single run might be (un)lucky and give unrepresentative performance.  This also allows us to make apples-to-apples comparisons to the leaderboard.  However, this process takes significant time.  Feel free to skip these cells until after you've finished implementing all sections and then you can collect statistics e.g., overnight if you wish.\n",
        "\n",
        "## Extra Credit \n",
        "A great way to learn is to 1) read other peoples' code and 2) tinker.  If you want to maximize your learning, the Extra Credit section will provide a few directions for further exploration.  As part of this, it's recommended you find another submission on the OGB Leaderboard and try to re-create its submission.  This will likely involve reading the paper and code, which is great practice.  If you do something interesting and novel, we'll kindly host it in a public repo as an example of your glory (if you wish).\n",
        "\n",
        "***\n",
        "\n",
        "# Boilerplate"
      ]
    },
    {
      "cell_type": "code",
      "execution_count": 1,
      "metadata": {
        "id": "E3ID23XbWg-6"
      },
      "outputs": [],
      "source": [
        "import os\n",
        "import math\n",
        "from copy import deepcopy\n",
        "from pathlib import Path\n",
        "import numpy as np\n",
        "import pandas as pd\n",
        "from scipy import stats\n",
        "\n",
        "import torch as th\n",
        "import torch.nn as nn\n",
        "from torch import optim\n",
        "import torch.nn.functional as F\n",
        "\n",
        "import matplotlib.pyplot as plt\n",
        "%matplotlib inline"
      ]
    },
    {
      "cell_type": "code",
      "execution_count": 34,
      "metadata": {
        "colab": {
          "base_uri": "https://localhost:8080/"
        },
        "id": "SP_7ee9JWg-9",
        "outputId": "4df85a9d-a6a0-40cc-9703-eb3f5b4bfdee"
      },
      "outputs": [
        {
          "output_type": "stream",
          "name": "stdout",
          "text": [
            "Torch version: 1.11.0+cu113.  CUDA version: 11.3\n"
          ]
        }
      ],
      "source": [
        "print(f\"Torch version: {th.__version__}.  CUDA version: {th.version.cuda}\")"
      ]
    },
    {
      "cell_type": "code",
      "execution_count": 3,
      "metadata": {
        "scrolled": true,
        "id": "UIGXuyajWg_A",
        "colab": {
          "base_uri": "https://localhost:8080/"
        },
        "outputId": "5cfeb42a-1daf-4dff-ff8f-17e2c711bc51"
      },
      "outputs": [
        {
          "output_type": "stream",
          "name": "stdout",
          "text": [
            "Looking in links: https://data.dgl.ai/wheels/repo.html\n",
            "Collecting dgl-cu101\n",
            "  Downloading https://data.dgl.ai/wheels/dgl_cu101-0.8.1-cp37-cp37m-manylinux1_x86_64.whl (150.0 MB)\n",
            "\u001b[K     |████████████████████████████████| 150.0 MB 7.9 kB/s \n",
            "\u001b[?25hRequirement already satisfied: requests>=2.19.0 in /usr/local/lib/python3.7/dist-packages (from dgl-cu101) (2.23.0)\n",
            "Requirement already satisfied: tqdm in /usr/local/lib/python3.7/dist-packages (from dgl-cu101) (4.64.0)\n",
            "Requirement already satisfied: scipy>=1.1.0 in /usr/local/lib/python3.7/dist-packages (from dgl-cu101) (1.4.1)\n",
            "Requirement already satisfied: numpy>=1.14.0 in /usr/local/lib/python3.7/dist-packages (from dgl-cu101) (1.21.6)\n",
            "Requirement already satisfied: networkx>=2.1 in /usr/local/lib/python3.7/dist-packages (from dgl-cu101) (2.6.3)\n",
            "Requirement already satisfied: certifi>=2017.4.17 in /usr/local/lib/python3.7/dist-packages (from requests>=2.19.0->dgl-cu101) (2021.10.8)\n",
            "Requirement already satisfied: idna<3,>=2.5 in /usr/local/lib/python3.7/dist-packages (from requests>=2.19.0->dgl-cu101) (2.10)\n",
            "Requirement already satisfied: urllib3!=1.25.0,!=1.25.1,<1.26,>=1.21.1 in /usr/local/lib/python3.7/dist-packages (from requests>=2.19.0->dgl-cu101) (1.24.3)\n",
            "Requirement already satisfied: chardet<4,>=3.0.2 in /usr/local/lib/python3.7/dist-packages (from requests>=2.19.0->dgl-cu101) (3.0.4)\n",
            "Installing collected packages: dgl-cu101\n",
            "Successfully installed dgl-cu101-0.8.1\n"
          ]
        }
      ],
      "source": [
        "# Follow instructions at https://www.dgl.ai/pages/start.html\n",
        "!pip install dgl-cu101 -f https://data.dgl.ai/wheels/repo.html"
      ]
    },
    {
      "cell_type": "code",
      "execution_count": null,
      "metadata": {
        "scrolled": true,
        "id": "Ngx2I1LdWg_C"
      },
      "outputs": [],
      "source": [
        "!pip install ogb"
      ]
    },
    {
      "cell_type": "code",
      "execution_count": 5,
      "metadata": {
        "id": "TbN6FAIXWg_I"
      },
      "outputs": [],
      "source": [
        "os.environ['DGLBACKEND'] = 'pytorch'\n",
        "import dgl\n",
        "from dgl.nn import GraphConv\n",
        "from ogb.nodeproppred import DglNodePropPredDataset, Evaluator"
      ]
    },
    {
      "cell_type": "code",
      "execution_count": 35,
      "metadata": {
        "id": "MnEtK8_gWg_N",
        "colab": {
          "base_uri": "https://localhost:8080/"
        },
        "outputId": "6832463f-739b-4025-fa47-5f224eba9ade"
      },
      "outputs": [
        {
          "output_type": "execute_result",
          "data": {
            "text/plain": [
              "device(type='cuda')"
            ]
          },
          "metadata": {},
          "execution_count": 35
        }
      ],
      "source": [
        "device = 'cuda' if th.cuda.is_available() else 'cpu'\n",
        "device = th.device(device)\n",
        "device"
      ]
    },
    {
      "cell_type": "markdown",
      "metadata": {
        "id": "oGYxJBLyWg_Q"
      },
      "source": [
        "## Helper functions"
      ]
    },
    {
      "cell_type": "code",
      "execution_count": 36,
      "metadata": {
        "id": "MDiITLysWg_S"
      },
      "outputs": [],
      "source": [
        "def plot_losses(train_losses, val_losses, log=False):\n",
        "    \"\"\"\n",
        "    Plots train/validation loss curves vs training epoch\n",
        "    \"\"\"\n",
        "    fig, ax = plt.subplots()\n",
        "\n",
        "    ax.plot(train_losses, label='Train')\n",
        "    ax.plot(val_losses, label='Val')\n",
        "    ax.set(xlabel='Epoch', ylabel='CrossEnt')\n",
        "    if log:\n",
        "        ax.set_yscale('log')\n",
        "    ax.legend()\n",
        "    ax.grid()\n",
        "    \n",
        "def train(g, labels, split_idx, model, epochs, evaluator, \n",
        "          device, save_path, loss_fn=F.cross_entropy, lr=0.01, es_criteria=5, verbose=False):\n",
        "    \"\"\"\n",
        "    A standard interface for model training.  Should be no reason to change this unless you \n",
        "    want to add improvements (e.g., learning rate scheduler).\n",
        "    \"\"\"\n",
        "    optimizer = optim.Adam(model.parameters(), lr=lr)\n",
        "    best_val_acc = 0\n",
        "    best_test_acc = 0\n",
        "    train_losses = list()\n",
        "    val_losses = list()\n",
        "\n",
        "    features = g.ndata['feat']\n",
        "    \n",
        "    train_mask = split_idx['train'].to(device)\n",
        "    val_mask = split_idx['valid'].to(device)\n",
        "    test_mask = split_idx['test'].to(device)\n",
        "    es_iters = 0\n",
        "    \n",
        "    for e in range(1, epochs+1):\n",
        "        \n",
        "        train_loss, val_loss = train_step(\n",
        "            model, g, features, labels, train_mask, val_mask, optimizer, loss_fn\n",
        "        )\n",
        "        train_losses.append(train_loss)\n",
        "        val_losses.append(val_loss)\n",
        "\n",
        "        # Compute accuracy on training/validation/test\n",
        "        train_acc, val_acc, test_acc = test(model, g, labels, split_idx, evaluator)\n",
        "\n",
        "        # Save the best validation accuracy and the corresponding test accuracy.\n",
        "        if best_val_acc < val_acc:\n",
        "            best_val_acc = val_acc\n",
        "            best_test_acc = test_acc\n",
        "            th.save(model.state_dict(), save_path)\n",
        "            es_iters = 0\n",
        "        else:\n",
        "            es_iters += 1\n",
        "            \n",
        "\n",
        "        if e % 50 == 0 and verbose:\n",
        "            print('In epoch {}, loss: {:.3f}, val acc: {:.3f} (best {:.3f}), test acc: {:.3f} (best {:.3f})'.format(\n",
        "                e, train_loss, val_acc, best_val_acc, test_acc, best_test_acc))\n",
        "            \n",
        "        if es_iters >= es_criteria:\n",
        "            print(f\"Early stopping at {e} epochs\")\n",
        "            break\n",
        "            \n",
        "    return np.array(train_losses), np.array(val_losses)\n",
        "\n",
        "def train_step(model, g, features, labels, train_mask, val_mask, optimizer, loss_fn):\n",
        "    \"\"\"\n",
        "    A single training step\n",
        "    \"\"\"\n",
        "    model.train()\n",
        "\n",
        "    optimizer.zero_grad()\n",
        "    logits = model(g, features)\n",
        "    loss = loss_fn(logits[train_mask], labels[train_mask])\n",
        "    loss.backward()\n",
        "    optimizer.step()\n",
        "    \n",
        "    with th.no_grad():\n",
        "        val_loss = loss_fn(logits[val_mask], labels[val_mask])\n",
        "\n",
        "    return loss.item(), val_loss.item()\n",
        "\n",
        "@th.no_grad()\n",
        "def test(model_cp, g, labels, split_idx, evaluator, best_path=None):\n",
        "    \"\"\"\n",
        "    Executes the OGB Evaluator to return accuracy for \n",
        "    the train, valid and test sets.  If passed in a model file path, \n",
        "    loads the parameters from that file, otherwise uses the model object\n",
        "    passed in.\n",
        "    \"\"\"\n",
        "    model = deepcopy(model_cp)\n",
        "    \n",
        "    if best_path is not None:\n",
        "        model.load_state_dict(th.load(best_path))\n",
        "        \n",
        "    model.eval()\n",
        "    \n",
        "    features = g.ndata['feat']\n",
        "    logits = model(g, features)\n",
        "    y_pred = logits.argmax(1, keepdim=True)\n",
        "\n",
        "    train_acc = evaluator.eval({\n",
        "        'y_true': labels[split_idx['train']].reshape((-1,1)),\n",
        "        'y_pred': y_pred[split_idx['train']],\n",
        "    })['acc']\n",
        "    valid_acc = evaluator.eval({\n",
        "        'y_true': labels[split_idx['valid']].reshape((-1,1)),\n",
        "        'y_pred': y_pred[split_idx['valid']],\n",
        "    })['acc']\n",
        "    test_acc = evaluator.eval({\n",
        "        'y_true': labels[split_idx['test']].reshape((-1,1)),\n",
        "        'y_pred': y_pred[split_idx['test']],\n",
        "    })['acc']\n",
        "\n",
        "    return train_acc, valid_acc, test_acc\n",
        "\n",
        "def characterize_performance(model, g, labels, split_idx, evaluator, best_path, verbose=False):\n",
        "    \"\"\"\n",
        "    Gets performance and compares to the Leaderboard performance for GCN.\n",
        "    Optionally (`verbose=True`) will put the performance in context with the variation\n",
        "    reported on the Leaderboard and indicate whether performance is above/below \n",
        "    1-standard deviation from the mean, as given by Leaderboard.\n",
        "    \"\"\"\n",
        "    train_acc, val_acc, test_acc = test(model, g, labels, split_idx, evaluator, best_path)\n",
        "    print(\n",
        "        f\"Leaderboard:  Test Acc={test_acc_lb} +/- {test_acc_lb_var}, Val Acc={val_acc_lb} +/- {val_acc_lb_var}\\n\"\n",
        "        f\"Yours:        Test Acc={test_acc:.4f},            Val Acc={val_acc:.4f}\\n\"\n",
        "    )\n",
        "\n",
        "    val_lb = val_acc_lb - val_acc_lb_var\n",
        "    val_ub = val_acc_lb + val_acc_lb_var\n",
        "    \n",
        "    if verbose:\n",
        "        if not val_acc >= val_lb:\n",
        "            print(\n",
        "                f\"Validation performance is worse than LB.  Expected lower bound of {val_lb:.4f}, but got {val_acc:.4f}.\")\n",
        "        elif val_acc > val_ub:\n",
        "            print(\n",
        "                f\"Validation performance is better than LB.  Expected upper bound of {val_ub:.4f}, but got {val_acc:.4f}.\")\n",
        "        else: \n",
        "            print(\n",
        "                f\"Validation performance is in the expected range of {val_lb} - {val_ub}.\"\n",
        "            )\n",
        "    \n",
        "    test_lb = test_acc_lb - test_acc_lb_var\n",
        "    test_ub = test_acc_lb + test_acc_lb_var\n",
        "    if verbose:\n",
        "        if not test_acc >= test_lb:\n",
        "            print(\n",
        "                f\"Test performance is worse than LB.  Expected lower bound of {test_lb:.4f}, but got {test_acc:.4f}.\")\n",
        "\n",
        "        elif test_acc > test_ub:\n",
        "            print(\n",
        "                f\"Test performance is better than LB.  Expected upper bound of {test_ub:.4f}, but got {test_acc:.4f}.\")\n",
        "        else:\n",
        "            print(f\"Test performance is in the expected range of {test_lb} - {test_ub}.\")\n",
        "        \n",
        "    return val_acc, test_acc\n",
        "\n",
        "def norm_plot(curves, title):\n",
        "    \"\"\"\n",
        "    Plots normal distribution curves\n",
        "    curves: list of tuples like: (mu, sigma, label)\n",
        "    \"\"\"\n",
        "    fig, ax = plt.subplots()\n",
        "    for mu, sigma, label in curves:\n",
        "        x = np.linspace(mu - 3*sigma, mu + 3*sigma, 100)\n",
        "        ax.plot(x, stats.norm.pdf(x, mu, sigma), label=label)\n",
        "    \n",
        "    ax.set_title(title)\n",
        "    ax.legend()\n",
        "    \n",
        "def get_experiment_stats(model_cls, model_args, train_args, n_experiments=10):\n",
        "    \"\"\"\n",
        "    Runs an experiment multiple times to get a measure of variation\n",
        "    \"\"\"\n",
        "    results = dict()\n",
        "    for i in range(n_experiments):\n",
        "        model = model_cls(**model_args).to(train_args['device'])\n",
        "        print(f\"Starting training for experiment {i+1}\")\n",
        "        # Add experiment number to model save_path\n",
        "        train_args_cp = deepcopy(train_args)\n",
        "        save_path, file_ext = train_args_cp.pop('save_path').split('.')\n",
        "        save_path_mod = f\"{save_path}_{i}.{file_ext}\"\n",
        "        \n",
        "        train_losses, val_losses = train(model=model, save_path=save_path_mod, **train_args_cp)\n",
        "        val_acc, test_acc = characterize_performance(\n",
        "            model, train_args['g'], train_args['labels'], train_args['split_idx'], \n",
        "            train_args['evaluator'], save_path_mod, train_args.get('verbose', False))\n",
        "        \n",
        "        results[i] = dict(val_acc=val_acc, test_acc=test_acc)\n",
        "        print(\"Training complete\\n\")\n",
        "        \n",
        "    df_stats = pd.DataFrame(results).T.agg(['mean', 'std'])\n",
        "    return df_stats"
      ]
    },
    {
      "cell_type": "code",
      "execution_count": 37,
      "metadata": {
        "colab": {
          "base_uri": "https://localhost:8080/",
          "height": 281
        },
        "id": "Q2Hgk5xTWg_f",
        "outputId": "fcf7e256-ffb7-4058-e793-b5724b39ac46"
      },
      "outputs": [
        {
          "output_type": "display_data",
          "data": {
            "text/plain": [
              "<Figure size 432x288 with 1 Axes>"
            ],
            "image/png": "[encoded data removed]"
          },
          "metadata": {
            "needs_background": "light"
          }
        }
      ],
      "source": [
        "norm_plot([(0.4678, 0.0067, 'LB')], 'TMP MAG')"
      ]
    },
    {
      "cell_type": "markdown",
      "metadata": {
        "id": "F7rcTRN_Wg_g"
      },
      "source": [
        "# Basics\n",
        "## Get OGB dataset and GCN leaderboard performance\n",
        "We will use the `ogb` python package to download the data, give us the correct train/validation/test splits for proper comparison and an `Evaluator` to make sure performance is measured appropriately.  "
      ]
    },
    {
      "cell_type": "code",
      "execution_count": 9,
      "metadata": {
        "id": "AbNjXu2FWg_h",
        "colab": {
          "base_uri": "https://localhost:8080/"
        },
        "outputId": "6b41eb00-cff7-48ba-df21-912da5eddbbc"
      },
      "outputs": [
        {
          "output_type": "stream",
          "name": "stdout",
          "text": [
            "Downloading http://snap.stanford.edu/ogb/data/nodeproppred/arxiv.zip\n"
          ]
        },
        {
          "output_type": "stream",
          "name": "stderr",
          "text": [
            "Downloaded 0.08 GB: 100%|██████████| 81/81 [00:08<00:00,  9.34it/s]\n"
          ]
        },
        {
          "output_type": "stream",
          "name": "stdout",
          "text": [
            "Extracting dataset/arxiv.zip\n",
            "Loading necessary files...\n",
            "This might take a while.\n",
            "Processing graphs...\n"
          ]
        },
        {
          "output_type": "stream",
          "name": "stderr",
          "text": [
            "100%|██████████| 1/1 [00:00<00:00, 1729.61it/s]\n"
          ]
        },
        {
          "output_type": "stream",
          "name": "stdout",
          "text": [
            "Converting graphs into DGL objects...\n"
          ]
        },
        {
          "output_type": "stream",
          "name": "stderr",
          "text": [
            "100%|██████████| 1/1 [00:00<00:00, 96.67it/s]"
          ]
        },
        {
          "output_type": "stream",
          "name": "stdout",
          "text": [
            "Saving...\n"
          ]
        },
        {
          "output_type": "stream",
          "name": "stderr",
          "text": [
            "\n"
          ]
        }
      ],
      "source": [
        "dataset = DglNodePropPredDataset(name = \"ogbn-arxiv\", root = 'dataset/')"
      ]
    },
    {
      "cell_type": "code",
      "execution_count": 10,
      "metadata": {
        "id": "WKE9JihwWg_i"
      },
      "outputs": [],
      "source": [
        "# Values from the OGB leaderboard of GCN, submitted May 1, 2020\n",
        "val_acc_lb, val_acc_lb_var, test_acc_lb, test_acc_lb_var = 0.7300, 0.0017, 0.7174, 0.0029\n",
        "evaluator = Evaluator(name = \"ogbn-arxiv\")"
      ]
    },
    {
      "cell_type": "code",
      "execution_count": 11,
      "metadata": {
        "id": "oEJrG8r4Wg_i"
      },
      "outputs": [],
      "source": [
        "# Extract split indices, DGL graph and labels\n",
        "split_idx = dataset.get_idx_split()\n",
        "g = dataset.graph[0]\n",
        "labels = dataset.labels.flatten().to(device)"
      ]
    },
    {
      "cell_type": "markdown",
      "metadata": {
        "id": "jLXtsZ5XWg_j"
      },
      "source": [
        "### Important \n",
        "Add reverse edges and self-loops to the graph, or performance will severely suffer!  By default, the edges are *directed*, meaning an edge from node A -> B is not an edge from node B -> A.  We need to add these reverse edges.  Also, for GCN we need to add an edge from every node to itself (i.e., \"self-loops\").  \n",
        "\n",
        "**Caution**:  Adding self-loops before adding reverse edges can cause unintuitive behavior that duplicates the self-edges.  Specifically, using the `add_reverse_edges` function ([docs](https://docs.dgl.ai/en/0.8.x/generated/dgl.add_reverse_edges.html)) in DGL prior to version 0.8 will \"reverse\" the self-loops and cause duplicates.  Starting in version 0.8, you can specify the `exclude_self` argument (True by default) to ignore self-loops when reversing.  You can also use the `to_bidirected` function ([docs](https://docs.dgl.ai/en/0.8.x/generated/dgl.to_bidirected.html)) to avoid this pitfall.  "
      ]
    },
    {
      "cell_type": "code",
      "execution_count": 38,
      "metadata": {
        "id": "ouFJl5vdWg_k"
      },
      "outputs": [],
      "source": [
        "# TODO\n",
        "g = g.add_self_loop()\n",
        "g = dgl.add_reverse_edges(g)"
      ]
    },
    {
      "cell_type": "code",
      "execution_count": 13,
      "metadata": {
        "id": "52yeHNA7Wg_l",
        "colab": {
          "base_uri": "https://localhost:8080/",
          "height": 218
        },
        "outputId": "e490ddbb-b3f5-411f-96ac-0677b8f55f2e"
      },
      "outputs": [
        {
          "output_type": "error",
          "ename": "AssertionError",
          "evalue": "ignored",
          "traceback": [
            "\u001b[0;31m---------------------------------------------------------------------------\u001b[0m",
            "\u001b[0;31mAssertionError\u001b[0m                            Traceback (most recent call last)",
            "\u001b[0;32m<ipython-input-13-a9a77b9218df>\u001b[0m in \u001b[0;36m<module>\u001b[0;34m()\u001b[0m\n\u001b[1;32m      1\u001b[0m \u001b[0;31m# If this fails, you have a mistake\u001b[0m\u001b[0;34m\u001b[0m\u001b[0;34m\u001b[0m\u001b[0;34m\u001b[0m\u001b[0m\n\u001b[0;32m----> 2\u001b[0;31m \u001b[0;32massert\u001b[0m \u001b[0mg\u001b[0m\u001b[0;34m.\u001b[0m\u001b[0mnum_edges\u001b[0m\u001b[0;34m(\u001b[0m\u001b[0;34m)\u001b[0m \u001b[0;34m==\u001b[0m \u001b[0;36m2484941\u001b[0m\u001b[0;34m,\u001b[0m \u001b[0;34m\"Number of edges isn't correct!  Make sure self-loop and reverse edges are added.\"\u001b[0m\u001b[0;34m\u001b[0m\u001b[0;34m\u001b[0m\u001b[0m\n\u001b[0m\u001b[1;32m      3\u001b[0m \u001b[0;31m# If this fails, you have duplicate edges\u001b[0m\u001b[0;34m\u001b[0m\u001b[0;34m\u001b[0m\u001b[0;34m\u001b[0m\u001b[0m\n\u001b[1;32m      4\u001b[0m \u001b[0;32massert\u001b[0m \u001b[0mg\u001b[0m\u001b[0;34m.\u001b[0m\u001b[0mis_multigraph\u001b[0m \u001b[0;32mis\u001b[0m \u001b[0;32mFalse\u001b[0m\u001b[0;34m\u001b[0m\u001b[0;34m\u001b[0m\u001b[0m\n",
            "\u001b[0;31mAssertionError\u001b[0m: Number of edges isn't correct!  Make sure self-loop and reverse edges are added."
          ]
        }
      ],
      "source": [
        "# If this fails, you have a mistake\n",
        "assert g.num_edges() == 2484941, \"Number of edges isn't correct!  Make sure self-loop and reverse edges are added.\"\n",
        "# If this fails, you have duplicate edges\n",
        "assert g.is_multigraph is False"
      ]
    },
    {
      "cell_type": "code",
      "execution_count": 39,
      "metadata": {
        "id": "1lA9diTgWg_l"
      },
      "outputs": [],
      "source": [
        "g = g.to(device)"
      ]
    },
    {
      "cell_type": "markdown",
      "metadata": {
        "id": "rFGXPhL2Wg_m"
      },
      "source": [
        "## Define GCN Model\n",
        "To match the performance on the Leaderboard, we'll need to implement our model using the same architecture as the submission.  Note that [their implementation](https://github.com/snap-stanford/ogb/blob/master/examples/nodeproppred/arxiv/gnn.py#L14) is using PyTorch Geometric, not DGL.  However, we can observe these key elements, which you'll need to reproduce:\n",
        "1. Graph Convolution layer\n",
        "  - Exploring the possible arguments (e.g., normalization, if a bias is included, \"improved\"...etc) could raise many questions, but the defaults of optional arguments between DGL and Geometric should give matching implementations (as of this writing).\n",
        "2. Batch Normalization layer\n",
        "  - Not applied to the final output layer\n",
        "3. ReLU activation\n",
        "  - Not applied to the final output layer\n",
        "4. Dropout\n",
        "  - Not applied to the final output layer\n",
        "  \n",
        "Your model output should be the *raw scores* coming from the final Graph Convolution layer (i.e., has shape `(num_nodes, num_classes)`.  The loss function will apply the Softmax activation when calculating the Cross Entropy."
      ]
    },
    {
      "cell_type": "code",
      "execution_count": 40,
      "metadata": {
        "id": "HVai77SJWg_m"
      },
      "outputs": [],
      "source": [
        "class GCN(nn.Module):\n",
        "    def __init__(self, in_feats, h_feats, num_classes, num_layers, add_bn=True, dropout=0): # TODO:  Add arguments here needed to define model components\n",
        "        \"\"\"\n",
        "        Defines the architecture of your model.  All layers with learnable parameters should\n",
        "        be created in this method.  The `forward` method will define how to use the \n",
        "        layers created here.\n",
        "        \n",
        "        You will also need to add arguments to the `__init__` method that you need to \n",
        "        create your layers.  For example, you might want to include a `num_layers` argument\n",
        "        so that you can dynamically change the number of layers, and a `dropout` argument \n",
        "        so that this is easy to change.\n",
        "        \n",
        "        Args:\n",
        "            ?\n",
        "        \"\"\"\n",
        "        super(GCN, self).__init__()\n",
        "        # TODO: Define/initialize model components\n",
        "        #pass\n",
        "        self.add_bn = add_bn\n",
        "        self.dropout = dropout\n",
        "        self.convs = nn.ModuleList()\n",
        "        self.convs.append(GraphConv(in_feats, h_feats))\n",
        "        if self.add_bn:\n",
        "          self.bns = nn.ModuleList()\n",
        "          self.bns = self.bns.append(nn.BatchNorm1d(h_feats))\n",
        "        \n",
        "        for _ in range(num_layers - 2):\n",
        "          self.convs.append(GraphConv(h_feats, h_feats))\n",
        "          if self.add_bn:\n",
        "            self.bns.append(nn.BatchNorm1d(h_feats))\n",
        "\n",
        "        self.convs.append(GraphConv(h_feats, num_classes))\n",
        "\n",
        "\n",
        "    def forward(self, g, in_feat):\n",
        "        \"\"\"\n",
        "        The forward pass of the model, which applies all of the layers\n",
        "        to a given graph and set of node features\n",
        "        \n",
        "        Args:\n",
        "            g (DGLGraph): the graph used for Graph Convolutions\n",
        "            in_feat (Tensor): the node features\n",
        "        \"\"\"\n",
        "        h = in_feat\n",
        "        for i, conv in enumerate(self.convs[:-1]):\n",
        "          h = conv(g, h)\n",
        "          if self.add_bn:\n",
        "            h = self.bns[i](h)\n",
        "          h = F.relu(h)\n",
        "          h = F.dropout(h, p = self.dropout, training = self.training)\n",
        "        h = self.convs[-1](g, h)\n",
        "        return h\n",
        "        # TODO: Stack model components to compute the forward pass \n",
        "        # pass"
      ]
    },
    {
      "cell_type": "markdown",
      "metadata": {
        "id": "GsDkAuXXWg_n"
      },
      "source": [
        "Put all of the arguments you added to the `__init__` method of your GCN model in a dictionary, where the key is the argument name and the value is the argument value.  For example:\n",
        "\n",
        "```python\n",
        "model_kwargs = dict(dropout=0.5, num_layers=3)\n",
        "```\n",
        "\n",
        "To match the Leaderboard performance, use the following hyperparameters:\n",
        "- Hidden layer size:  256\n",
        "- Total number of GCN layers (input + hidden + output):  3\n",
        "- Dropout: 0.5"
      ]
    },
    {
      "cell_type": "code",
      "execution_count": 41,
      "metadata": {
        "id": "eEPn0q-QWg_n"
      },
      "outputs": [],
      "source": [
        "model_kwargs = dict(\n",
        "    # TODO: Add your parameter values\n",
        "    in_feats = g.ndata['feat'].shape[1], h_feats = 256, num_classes = dataset.num_classes,\n",
        "    num_layers = 3, dropout = 0.5, add_bn = True\n",
        ")\n",
        "model = GCN(**model_kwargs).to(device)"
      ]
    },
    {
      "cell_type": "code",
      "execution_count": 42,
      "metadata": {
        "id": "OuD_ef8uWg_n",
        "outputId": "20a3082f-de83-465f-e361-c110d34c4dd1",
        "colab": {
          "base_uri": "https://localhost:8080/"
        }
      },
      "outputs": [
        {
          "output_type": "execute_result",
          "data": {
            "text/plain": [
              "GCN(\n",
              "  (convs): ModuleList(\n",
              "    (0): GraphConv(in=128, out=256, normalization=both, activation=None)\n",
              "    (1): GraphConv(in=256, out=256, normalization=both, activation=None)\n",
              "    (2): GraphConv(in=256, out=40, normalization=both, activation=None)\n",
              "  )\n",
              "  (bns): ModuleList(\n",
              "    (0): BatchNorm1d(256, eps=1e-05, momentum=0.1, affine=True, track_running_stats=True)\n",
              "    (1): BatchNorm1d(256, eps=1e-05, momentum=0.1, affine=True, track_running_stats=True)\n",
              "  )\n",
              ")"
            ]
          },
          "metadata": {},
          "execution_count": 42
        }
      ],
      "source": [
        "model"
      ]
    },
    {
      "cell_type": "code",
      "execution_count": 43,
      "metadata": {
        "id": "vtTKIW6eWg_o"
      },
      "outputs": [],
      "source": [
        "# If this fails, the number of parameters in your model doesn't match the leaderboard's\n",
        "# This means your architecture is different\n",
        "leader_parms = 110120\n",
        "model_parms = sum(p.numel() for p in model.parameters() if p.requires_grad)\n",
        "assert leader_parms == model_parms, \"Number of model parameters different than Leaderboard's\""
      ]
    },
    {
      "cell_type": "markdown",
      "metadata": {
        "id": "EONXdUhQWg_o"
      },
      "source": [
        "### GCN Training"
      ]
    },
    {
      "cell_type": "code",
      "execution_count": 45,
      "metadata": {
        "id": "ZuB00shZWg_o"
      },
      "outputs": [],
      "source": [
        "# Where to save the best model\n",
        "model_path = 'models'\n",
        "Path(model_path).mkdir(parents=True, exist_ok=True)\n",
        "gcn_path = f\"{model_path}/gcn_base.model\""
      ]
    },
    {
      "cell_type": "code",
      "execution_count": 46,
      "metadata": {
        "id": "sh6GhZf-Wg_p"
      },
      "outputs": [],
      "source": [
        "train_args = dict(\n",
        "    g=g, labels=labels, split_idx=split_idx, \n",
        "    epochs=500, evaluator=evaluator, device=device, \n",
        "    save_path=gcn_path, lr=5e-3, es_criteria=50,\n",
        ")"
      ]
    },
    {
      "cell_type": "markdown",
      "metadata": {
        "id": "lQcrabB6Wg_p"
      },
      "source": [
        "#### Single run\n",
        "Make sure results are reasonable before collecting statistics"
      ]
    },
    {
      "cell_type": "code",
      "execution_count": 47,
      "metadata": {
        "id": "dNFhCY7eWg_p",
        "outputId": "17fe71a4-ac30-450c-a9b6-13b81e480f9c",
        "colab": {
          "base_uri": "https://localhost:8080/"
        }
      },
      "outputs": [
        {
          "output_type": "stream",
          "name": "stdout",
          "text": [
            "In epoch 50, loss: 1.033, val acc: 0.699 (best 0.699), test acc: 0.690 (best 0.690)\n",
            "In epoch 100, loss: 0.935, val acc: 0.716 (best 0.716), test acc: 0.699 (best 0.699)\n",
            "In epoch 150, loss: 0.879, val acc: 0.718 (best 0.722), test acc: 0.702 (best 0.714)\n",
            "In epoch 200, loss: 0.837, val acc: 0.724 (best 0.728), test acc: 0.710 (best 0.720)\n",
            "In epoch 250, loss: 0.808, val acc: 0.724 (best 0.729), test acc: 0.707 (best 0.721)\n",
            "In epoch 300, loss: 0.783, val acc: 0.721 (best 0.730), test acc: 0.708 (best 0.720)\n",
            "In epoch 350, loss: 0.763, val acc: 0.729 (best 0.731), test acc: 0.711 (best 0.719)\n",
            "Early stopping at 374 epochs\n"
          ]
        }
      ],
      "source": [
        "train_losses, val_losses = train(model=model, verbose=True, **train_args)"
      ]
    },
    {
      "cell_type": "code",
      "execution_count": 48,
      "metadata": {
        "id": "TPhqmn4DWg_p",
        "outputId": "00f25b40-9c20-4942-912d-47ebac326ee5",
        "colab": {
          "base_uri": "https://localhost:8080/",
          "height": 279
        }
      },
      "outputs": [
        {
          "output_type": "display_data",
          "data": {
            "text/plain": [
              "<Figure size 432x288 with 1 Axes>"
            ],
            "image/png": "[encoded data removed]"
          },
          "metadata": {
            "needs_background": "light"
          }
        }
      ],
      "source": [
        "plot_losses(train_losses, val_losses, log=True)"
      ]
    },
    {
      "cell_type": "markdown",
      "metadata": {
        "id": "kYGD11zeWg_q"
      },
      "source": [
        "The Leaderboard reports the average performance and the standard deviation across 10 trials.  This will evaluate whether your model's performance is within 1 standard deviation of the mean (expected to happen in 68% of cases if your model has the same performance as the leaderboard).  It will report your performance as \"Worse\" if it's less than $\\mu - \\sigma$ and \"Better\" if it's greater than $\\mu + \\sigma$ (where $\\mu$ is the average and $\\sigma$ is the standard deviation).  Even if your performance is identical, this will be wrong in ~32% of cases, so try a few times if it's close, or consider the $\\pm 2\\sigma$ range instead for 95% confidence."
      ]
    },
    {
      "cell_type": "code",
      "execution_count": 49,
      "metadata": {
        "id": "ekVXTOcqWg_q",
        "outputId": "dbcb71cc-3276-41be-b0da-3c24a792e08b",
        "colab": {
          "base_uri": "https://localhost:8080/"
        }
      },
      "outputs": [
        {
          "output_type": "stream",
          "name": "stdout",
          "text": [
            "Leaderboard:  Test Acc=0.7174 +/- 0.0029, Val Acc=0.73 +/- 0.0017\n",
            "Yours:        Test Acc=0.7192,            Val Acc=0.7315\n",
            "\n",
            "Validation performance is in the expected range of 0.7283 - 0.7317.\n",
            "Test performance is in the expected range of 0.7145 - 0.7203.\n"
          ]
        }
      ],
      "source": [
        "_ = characterize_performance(model, g, labels, split_idx, evaluator, gcn_path, verbose=True)"
      ]
    },
    {
      "cell_type": "markdown",
      "metadata": {
        "id": "4UHYHJfsWg_q"
      },
      "source": [
        "#### Collect statistics\n",
        "To properly assess the quality of our model, we'll need to run several times and compare the performance distribution.  Since this is time consuming, *only run this once you're getting reasonable results from single runs.*"
      ]
    },
    {
      "cell_type": "code",
      "execution_count": 50,
      "metadata": {
        "id": "1PeeMz2GWg_q",
        "outputId": "44211e94-4add-48c8-fba2-620cf370511f",
        "colab": {
          "base_uri": "https://localhost:8080/"
        }
      },
      "outputs": [
        {
          "output_type": "stream",
          "name": "stdout",
          "text": [
            "Starting training for experiment 1\n",
            "Early stopping at 499 epochs\n",
            "Leaderboard:  Test Acc=0.7174 +/- 0.0029, Val Acc=0.73 +/- 0.0017\n",
            "Yours:        Test Acc=0.7223,            Val Acc=0.7340\n",
            "\n",
            "Training complete\n",
            "\n",
            "Starting training for experiment 2\n",
            "Early stopping at 267 epochs\n",
            "Leaderboard:  Test Acc=0.7174 +/- 0.0029, Val Acc=0.73 +/- 0.0017\n",
            "Yours:        Test Acc=0.7198,            Val Acc=0.7277\n",
            "\n",
            "Training complete\n",
            "\n",
            "Starting training for experiment 3\n",
            "Early stopping at 395 epochs\n",
            "Leaderboard:  Test Acc=0.7174 +/- 0.0029, Val Acc=0.73 +/- 0.0017\n",
            "Yours:        Test Acc=0.7194,            Val Acc=0.7334\n",
            "\n",
            "Training complete\n",
            "\n",
            "Starting training for experiment 4\n",
            "Early stopping at 290 epochs\n",
            "Leaderboard:  Test Acc=0.7174 +/- 0.0029, Val Acc=0.73 +/- 0.0017\n",
            "Yours:        Test Acc=0.7218,            Val Acc=0.7312\n",
            "\n",
            "Training complete\n",
            "\n",
            "Starting training for experiment 5\n",
            "Early stopping at 363 epochs\n",
            "Leaderboard:  Test Acc=0.7174 +/- 0.0029, Val Acc=0.73 +/- 0.0017\n",
            "Yours:        Test Acc=0.7224,            Val Acc=0.7319\n",
            "\n",
            "Training complete\n",
            "\n",
            "Starting training for experiment 6\n",
            "Early stopping at 406 epochs\n",
            "Leaderboard:  Test Acc=0.7174 +/- 0.0029, Val Acc=0.73 +/- 0.0017\n",
            "Yours:        Test Acc=0.7199,            Val Acc=0.7315\n",
            "\n",
            "Training complete\n",
            "\n",
            "Starting training for experiment 7\n",
            "Early stopping at 375 epochs\n",
            "Leaderboard:  Test Acc=0.7174 +/- 0.0029, Val Acc=0.73 +/- 0.0017\n",
            "Yours:        Test Acc=0.7228,            Val Acc=0.7318\n",
            "\n",
            "Training complete\n",
            "\n",
            "Starting training for experiment 8\n",
            "Early stopping at 304 epochs\n",
            "Leaderboard:  Test Acc=0.7174 +/- 0.0029, Val Acc=0.73 +/- 0.0017\n",
            "Yours:        Test Acc=0.7213,            Val Acc=0.7294\n",
            "\n",
            "Training complete\n",
            "\n",
            "Starting training for experiment 9\n",
            "Early stopping at 307 epochs\n",
            "Leaderboard:  Test Acc=0.7174 +/- 0.0029, Val Acc=0.73 +/- 0.0017\n",
            "Yours:        Test Acc=0.7206,            Val Acc=0.7303\n",
            "\n",
            "Training complete\n",
            "\n",
            "Starting training for experiment 10\n",
            "Early stopping at 385 epochs\n",
            "Leaderboard:  Test Acc=0.7174 +/- 0.0029, Val Acc=0.73 +/- 0.0017\n",
            "Yours:        Test Acc=0.7201,            Val Acc=0.7311\n",
            "\n",
            "Training complete\n",
            "\n"
          ]
        }
      ],
      "source": [
        "df_gcn = get_experiment_stats(\n",
        "    model_cls=GCN, model_args=model_kwargs,\n",
        "    train_args=train_args, n_experiments=10\n",
        ")"
      ]
    },
    {
      "cell_type": "code",
      "execution_count": 51,
      "metadata": {
        "id": "5TiQF86XWg_r",
        "outputId": "fa6b29e9-28c4-4e3f-ab08-a3ec459f3526",
        "colab": {
          "base_uri": "https://localhost:8080/",
          "height": 281
        }
      },
      "outputs": [
        {
          "output_type": "display_data",
          "data": {
            "text/plain": [
              "<Figure size 432x288 with 1 Axes>"
            ],
            "image/png": "[encoded data removed]"
          },
          "metadata": {
            "needs_background": "light"
          }
        }
      ],
      "source": [
        "norm_plot(\n",
        "    [\n",
        "        (test_acc_lb, test_acc_lb_var, 'Leaderboard'), \n",
        "        (df_gcn.loc['mean', 'test_acc'], df_gcn.loc['std', 'test_acc'], 'GCN'),\n",
        "    ],\n",
        "    'Test Performance'\n",
        ")"
      ]
    },
    {
      "cell_type": "code",
      "execution_count": 52,
      "metadata": {
        "id": "pcbfTtthWg_r",
        "outputId": "a1cb3cfa-3b72-4c59-be69-c6ece0e8181e",
        "colab": {
          "base_uri": "https://localhost:8080/"
        }
      },
      "outputs": [
        {
          "output_type": "stream",
          "name": "stdout",
          "text": [
            "Mean Test Accuracy Improvement: 0.0036\n",
            "Probability that these are from the same performance distribution = 0%\n"
          ]
        }
      ],
      "source": [
        "# Conduct a Welch's t-test to determine if the means are different with statistical significance \n",
        "_, p = stats.ttest_ind_from_stats(\n",
        "    test_acc_lb, test_acc_lb_var, 10,\n",
        "    df_gcn.loc['mean', 'test_acc'], df_gcn.loc['std', 'test_acc'], 10,\n",
        "    equal_var=False,\n",
        ")\n",
        "print(f\"Mean Test Accuracy Improvement: {(df_gcn.loc['mean', 'test_acc'] - test_acc_lb):.4f}\")\n",
        "print(f\"Probability that these are from the same performance distribution = {p*100:.0f}%\")"
      ]
    },
    {
      "cell_type": "markdown",
      "metadata": {
        "id": "X-PLaRoxWg_s"
      },
      "source": [
        "# Improvements\n",
        "Now that we can match the GCN performance from the Leaderboard we can go about improving upon it.  In this section, we will implement a few ideas from the [\"Bag of Tricks\"](https://arxiv.org/abs/2103.13355) paper.  Specifically, we will implement:\n",
        "\n",
        "1. The \"Loge\" loss function they propose\n",
        "2. Linear projected skip connections + Input Dropout (also with Loge loss)\n",
        "\n",
        "These changes should result in climbing several positions up the Leaderboard.  "
      ]
    },
    {
      "cell_type": "code",
      "execution_count": 53,
      "metadata": {
        "id": "4VcGMfLQWg_s"
      },
      "outputs": [],
      "source": [
        "def loge(x, labels):\n",
        "    \"\"\"\n",
        "    The \"Loge\" loss function described in the paper.  Should take the same inputs\n",
        "    as the `F.cross_entropy` functional of torch.\n",
        "    \n",
        "    Use `epsilon = 1 - math.log(2)` and take the average across the batch\n",
        "\n",
        "    Args:\n",
        "        x (Tensor): the model predictions\n",
        "        labels (Tensor): node labels\n",
        "        \n",
        "    Returns:\n",
        "        The average Loge loss across the batch\n",
        "    \"\"\"\n",
        "    # TODO\n",
        "    # Implement the Loge loss function described in the paper\n",
        "    # pass\n",
        "    epsilon = 1- math.log(2)\n",
        "    z = F.cross_entropy(x, labels, reduction = \"none\")\n",
        "    y = th.log(epsilon + z) - math.log(epsilon)\n",
        "    return th.mean(y)"
      ]
    },
    {
      "cell_type": "code",
      "execution_count": 54,
      "metadata": {
        "id": "4IXVZmJ-Wg_s"
      },
      "outputs": [],
      "source": [
        "model_loge_kwargs = dict(\n",
        "    # TODO: Add your parameter values\n",
        "    in_feats = g.ndata[\"feat\"].shape[1], h_feats = 256, num_classes = dataset.num_classes,\n",
        "    num_layers = 3, dropout = 0.6, add_bn = True\n",
        ")\n",
        "model_loge = GCN(**model_loge_kwargs).to(device)"
      ]
    },
    {
      "cell_type": "code",
      "execution_count": 55,
      "metadata": {
        "id": "hTd34xOTWg_t"
      },
      "outputs": [],
      "source": [
        "gcn_loge_path = f\"{model_path}/gcn_loge.model\""
      ]
    },
    {
      "cell_type": "code",
      "execution_count": 56,
      "metadata": {
        "id": "YuvO0wYPWg_t"
      },
      "outputs": [],
      "source": [
        "train_loge_args = dict(\n",
        "    g=g, labels=labels, split_idx=split_idx, \n",
        "    epochs=500, evaluator=evaluator, device=device, \n",
        "    save_path=gcn_loge_path, lr=5e-3, es_criteria=50,\n",
        "    loss_fn=loge # this changes the loss function to use \"loge\"\n",
        ")"
      ]
    },
    {
      "cell_type": "code",
      "execution_count": 57,
      "metadata": {
        "id": "Vy00FMxZWg_z",
        "colab": {
          "base_uri": "https://localhost:8080/"
        },
        "outputId": "297c84f0-6d06-444e-901d-4c6cd56891cd"
      },
      "outputs": [
        {
          "output_type": "stream",
          "name": "stdout",
          "text": [
            "In epoch 50, loss: 0.925, val acc: 0.698 (best 0.698), test acc: 0.694 (best 0.694)\n",
            "In epoch 100, loss: 0.839, val acc: 0.721 (best 0.721), test acc: 0.707 (best 0.716)\n",
            "In epoch 150, loss: 0.801, val acc: 0.727 (best 0.727), test acc: 0.714 (best 0.721)\n",
            "In epoch 200, loss: 0.771, val acc: 0.716 (best 0.731), test acc: 0.694 (best 0.720)\n",
            "In epoch 250, loss: 0.748, val acc: 0.725 (best 0.732), test acc: 0.706 (best 0.717)\n",
            "Early stopping at 252 epochs\n"
          ]
        }
      ],
      "source": [
        "train_losses, val_losses = train(model=model_loge, verbose=True, **train_loge_args)"
      ]
    },
    {
      "cell_type": "code",
      "execution_count": 58,
      "metadata": {
        "id": "IaMSeYiVWg_z",
        "outputId": "c77bc979-da98-40f0-8a27-0f734dd2235b",
        "colab": {
          "base_uri": "https://localhost:8080/",
          "height": 279
        }
      },
      "outputs": [
        {
          "output_type": "display_data",
          "data": {
            "text/plain": [
              "<Figure size 432x288 with 1 Axes>"
            ],
            "image/png": "[encoded data removed]"
          },
          "metadata": {
            "needs_background": "light"
          }
        }
      ],
      "source": [
        "plot_losses(train_losses, val_losses, log=True)"
      ]
    },
    {
      "cell_type": "code",
      "execution_count": 59,
      "metadata": {
        "id": "3uQF5l4FWg_0",
        "outputId": "e1979778-910e-44e4-81ae-466ce6b64b88",
        "colab": {
          "base_uri": "https://localhost:8080/"
        }
      },
      "outputs": [
        {
          "output_type": "stream",
          "name": "stdout",
          "text": [
            "Leaderboard:  Test Acc=0.7174 +/- 0.0029, Val Acc=0.73 +/- 0.0017\n",
            "Yours:        Test Acc=0.7167,            Val Acc=0.7320\n",
            "\n",
            "Validation performance is better than LB.  Expected upper bound of 0.7317, but got 0.7320.\n",
            "Test performance is in the expected range of 0.7145 - 0.7203.\n"
          ]
        }
      ],
      "source": [
        "_ = characterize_performance(model_loge, g, labels, split_idx, evaluator, gcn_loge_path, verbose=True)"
      ]
    },
    {
      "cell_type": "markdown",
      "metadata": {
        "id": "hbWq-mwgWg_0"
      },
      "source": [
        "#### Collect statistics"
      ]
    },
    {
      "cell_type": "code",
      "execution_count": 60,
      "metadata": {
        "id": "WdBI-ZZwWg_0",
        "colab": {
          "base_uri": "https://localhost:8080/"
        },
        "outputId": "00d595c4-f52b-4165-b909-352e30b07692"
      },
      "outputs": [
        {
          "output_type": "stream",
          "name": "stdout",
          "text": [
            "Starting training for experiment 1\n",
            "Early stopping at 415 epochs\n",
            "Leaderboard:  Test Acc=0.7174 +/- 0.0029, Val Acc=0.73 +/- 0.0017\n",
            "Yours:        Test Acc=0.7190,            Val Acc=0.7346\n",
            "\n",
            "Training complete\n",
            "\n",
            "Starting training for experiment 2\n",
            "Early stopping at 267 epochs\n",
            "Leaderboard:  Test Acc=0.7174 +/- 0.0029, Val Acc=0.73 +/- 0.0017\n",
            "Yours:        Test Acc=0.7231,            Val Acc=0.7324\n",
            "\n",
            "Training complete\n",
            "\n",
            "Starting training for experiment 3\n",
            "Early stopping at 355 epochs\n",
            "Leaderboard:  Test Acc=0.7174 +/- 0.0029, Val Acc=0.73 +/- 0.0017\n",
            "Yours:        Test Acc=0.7237,            Val Acc=0.7334\n",
            "\n",
            "Training complete\n",
            "\n",
            "Starting training for experiment 4\n",
            "Early stopping at 195 epochs\n",
            "Leaderboard:  Test Acc=0.7174 +/- 0.0029, Val Acc=0.73 +/- 0.0017\n",
            "Yours:        Test Acc=0.7202,            Val Acc=0.7286\n",
            "\n",
            "Training complete\n",
            "\n",
            "Starting training for experiment 5\n",
            "Early stopping at 306 epochs\n",
            "Leaderboard:  Test Acc=0.7174 +/- 0.0029, Val Acc=0.73 +/- 0.0017\n",
            "Yours:        Test Acc=0.7226,            Val Acc=0.7334\n",
            "\n",
            "Training complete\n",
            "\n",
            "Starting training for experiment 6\n",
            "Early stopping at 242 epochs\n",
            "Leaderboard:  Test Acc=0.7174 +/- 0.0029, Val Acc=0.73 +/- 0.0017\n",
            "Yours:        Test Acc=0.7234,            Val Acc=0.7306\n",
            "\n",
            "Training complete\n",
            "\n",
            "Starting training for experiment 7\n",
            "Early stopping at 202 epochs\n",
            "Leaderboard:  Test Acc=0.7174 +/- 0.0029, Val Acc=0.73 +/- 0.0017\n",
            "Yours:        Test Acc=0.7188,            Val Acc=0.7299\n",
            "\n",
            "Training complete\n",
            "\n",
            "Starting training for experiment 8\n",
            "Early stopping at 364 epochs\n",
            "Leaderboard:  Test Acc=0.7174 +/- 0.0029, Val Acc=0.73 +/- 0.0017\n",
            "Yours:        Test Acc=0.7223,            Val Acc=0.7351\n",
            "\n",
            "Training complete\n",
            "\n",
            "Starting training for experiment 9\n",
            "Early stopping at 214 epochs\n",
            "Leaderboard:  Test Acc=0.7174 +/- 0.0029, Val Acc=0.73 +/- 0.0017\n",
            "Yours:        Test Acc=0.7136,            Val Acc=0.7282\n",
            "\n",
            "Training complete\n",
            "\n",
            "Starting training for experiment 10\n",
            "Early stopping at 329 epochs\n",
            "Leaderboard:  Test Acc=0.7174 +/- 0.0029, Val Acc=0.73 +/- 0.0017\n",
            "Yours:        Test Acc=0.7241,            Val Acc=0.7353\n",
            "\n",
            "Training complete\n",
            "\n"
          ]
        }
      ],
      "source": [
        "df_loge = get_experiment_stats(\n",
        "    model_cls=GCN, model_args=model_loge_kwargs,\n",
        "    train_args=train_loge_args, n_experiments=10\n",
        ")"
      ]
    },
    {
      "cell_type": "code",
      "execution_count": 61,
      "metadata": {
        "id": "rBXJGmXQWg_1",
        "outputId": "c38a1edf-f6af-47ff-e044-7d8b34a0d88f",
        "colab": {
          "base_uri": "https://localhost:8080/",
          "height": 281
        }
      },
      "outputs": [
        {
          "output_type": "display_data",
          "data": {
            "text/plain": [
              "<Figure size 432x288 with 1 Axes>"
            ],
            "image/png": "[encoded data removed]"
          },
          "metadata": {
            "needs_background": "light"
          }
        }
      ],
      "source": [
        "norm_plot(\n",
        "    [\n",
        "        (test_acc_lb, test_acc_lb_var, 'Leaderboard'), \n",
        "        (df_gcn.loc['mean', 'test_acc'], df_gcn.loc['std', 'test_acc'], 'GCN'),\n",
        "        (df_loge.loc['mean', 'test_acc'], df_loge.loc['std', 'test_acc'], 'Loge Loss Func'),\n",
        "    ],\n",
        "    'Test Performance'\n",
        ")"
      ]
    },
    {
      "cell_type": "code",
      "execution_count": 63,
      "metadata": {
        "id": "gQhwKOWyWg_1",
        "outputId": "8c4cdfde-4f10-405d-9d2c-aed5e106a49f",
        "colab": {
          "base_uri": "https://localhost:8080/"
        }
      },
      "outputs": [
        {
          "output_type": "stream",
          "name": "stdout",
          "text": [
            "Mean Test Accuracy Improvement: 0.0037\n",
            "Probability that these are from the same performance distribution = 2%\n"
          ]
        }
      ],
      "source": [
        "# Conduct a Welch's t-test to determine if the means are different with statistical significance \n",
        "_, p = stats.ttest_ind_from_stats(\n",
        "    test_acc_lb, test_acc_lb_var, 10,\n",
        "    df_loge.loc['mean', 'test_acc'], df_loge.loc['std', 'test_acc'], 10,\n",
        "    equal_var=False,\n",
        ")\n",
        "print(f\"Mean Test Accuracy Improvement: {(df_loge.loc['mean', 'test_acc'] - test_acc_lb):.4f}\")\n",
        "print(f\"Probability that these are from the same performance distribution = {p*100:.0f}%\")"
      ]
    },
    {
      "cell_type": "markdown",
      "metadata": {
        "id": "VbWgEGESWg_2"
      },
      "source": [
        "## Linear skip connections + Input Dropout\n",
        "Here we will implement a skip connection that adds (a linear transformation of) the input to the output of the Graph Convolution layer.  Additionally, we will add Dropout to the raw input features.  See the paper for more details."
      ]
    },
    {
      "cell_type": "code",
      "execution_count": null,
      "metadata": {
        "id": "-dEddCCsWg_2"
      },
      "outputs": [],
      "source": [
        "class GCNwLinear(nn.Module):\n",
        "    def __init__(self, ): # TODO: add your arguments\n",
        "        \n",
        "        super(GCNwLinear, self).__init__()\n",
        "        # TODO \n",
        "        \"\"\"\n",
        "        In addition to GCN from before, create the linear layers to operate on the \n",
        "        input of each GraphConv layer.  As before, also create Batch Norm layers for \n",
        "        all GraphConv layers *except the last one*.\n",
        "        \n",
        "        All layers except the last should support Dropout.  \n",
        "        \n",
        "        For the *input dropout*, it should be as follows:\n",
        "            `self.input_drop = nn.Dropout(min(0.1, dropout))`\n",
        "            \n",
        "        which means that while the network layers can have any value of Dropout, the input\n",
        "        features never receive more than 0.1 dropout rate.\n",
        "        \n",
        "        To re-create my results, only use a bias in *last* GraphConv layer\n",
        "        and none of the linear layers or earlier GraphConv layers.\n",
        "        \"\"\"\n",
        "        # TODO\n",
        "        \n",
        "        \n",
        "        # Input layer: dropout, Linear, GraphConv, BatchNorm\n",
        "        \n",
        "        \n",
        "        # Hidden layers: dropout, Linear, GraphConv, BatchNorm\n",
        "        \n",
        "        \n",
        "        # Output layer: GraphConv, Linear\n",
        "        \n",
        "        pass\n",
        "\n",
        "    def forward(self, g, in_feat):\n",
        "        \"\"\"\n",
        "        The forward pass of the model, which applies all of the layers\n",
        "        to a given graph and set of node features\n",
        "        \n",
        "        Args:\n",
        "            g (DGLGraph): the graph used for Graph Convolutions\n",
        "            in_feat (Tensor): the node features\n",
        "            \n",
        "        Returns:\n",
        "            the logits of the model as a Tensor, in which *no final activation function\n",
        "            has been applied*.\n",
        "        \"\"\"\n",
        "        # TODO \n",
        "        pass"
      ]
    },
    {
      "cell_type": "code",
      "execution_count": null,
      "metadata": {
        "id": "cVvhGKcAWg_2"
      },
      "outputs": [],
      "source": [
        "model_linear_kwargs = dict(\n",
        "    # TODO: Add your parameter values\n",
        ")\n",
        "model_linear = GCNwLinear(**model_linear_kwargs).to(device)"
      ]
    },
    {
      "cell_type": "code",
      "execution_count": null,
      "metadata": {
        "id": "wMnVlFKgWg_3"
      },
      "outputs": [],
      "source": [
        "# If this fails, the number of parameters in your model doesn't match mine (assuming 3 graphconv layers)\n",
        "linear_parms = 218152\n",
        "model_linear_parms = sum(p.numel() for p in model_linear.parameters() if p.requires_grad)\n",
        "assert linear_parms == model_linear_parms, \"Number of model parameters different than Leaderboard's\""
      ]
    },
    {
      "cell_type": "code",
      "execution_count": null,
      "metadata": {
        "id": "6z0T91FUWg_3"
      },
      "outputs": [],
      "source": [
        "gcn_linear_path = f\"{model_path}/gcn_linear.model\""
      ]
    },
    {
      "cell_type": "code",
      "execution_count": null,
      "metadata": {
        "id": "kcJQZ_56Wg_3"
      },
      "outputs": [],
      "source": [
        "train_linear_args = dict(\n",
        "    g=g, labels=labels, split_idx=split_idx, \n",
        "    epochs=500, evaluator=evaluator, device=device, \n",
        "    save_path=gcn_linear_path, lr=5e-3, es_criteria=50,\n",
        "    loss_fn=loge\n",
        ")"
      ]
    },
    {
      "cell_type": "code",
      "execution_count": null,
      "metadata": {
        "id": "XUNyZ2B3Wg_4"
      },
      "outputs": [],
      "source": [
        "train_losses, val_losses = train(model=model_linear, verbose=True, **train_linear_args)"
      ]
    },
    {
      "cell_type": "code",
      "execution_count": null,
      "metadata": {
        "id": "qDUFSsfsWg_4",
        "outputId": "3cafe76b-70f3-419b-8f79-5ad0e9f6b1cf"
      },
      "outputs": [
        {
          "data": {
            "image/png": "[encoded data removed]",
            "text/plain": [
              "<Figure size 432x288 with 1 Axes>"
            ]
          },
          "metadata": {
            "needs_background": "light"
          },
          "output_type": "display_data"
        }
      ],
      "source": [
        "plot_losses(train_losses, val_losses, log=True)"
      ]
    },
    {
      "cell_type": "code",
      "execution_count": null,
      "metadata": {
        "id": "FkrdiTMHWg_4",
        "outputId": "a30d5c24-bf5d-4092-f5a5-eb3231146912"
      },
      "outputs": [
        {
          "name": "stdout",
          "output_type": "stream",
          "text": [
            "Leaderboard:  Test Acc=0.7174 +/- 0.0029, Val Acc=0.73 +/- 0.0017\n",
            "Yours:        Test Acc=0.7233,            Val Acc=0.7361\n",
            "\n",
            "Validation performance is better than LB.  Expected upper bound of 0.7317, but got 0.7361.\n",
            "Test performance is better than LB.  Expected upper bound of 0.7203, but got 0.7233.\n"
          ]
        }
      ],
      "source": [
        "_ = characterize_performance(model_linear, g, labels, split_idx, evaluator, gcn_linear_path, verbose=True)"
      ]
    },
    {
      "cell_type": "markdown",
      "metadata": {
        "id": "zW84okpMWg_5"
      },
      "source": [
        "### Stats\n",
        "Do this for 10 iterations to get some statistics"
      ]
    },
    {
      "cell_type": "code",
      "execution_count": null,
      "metadata": {
        "scrolled": true,
        "id": "5JDBCrjZWg_5",
        "outputId": "b17684fb-1785-44b7-e67a-2f49aa009e35"
      },
      "outputs": [
        {
          "name": "stdout",
          "output_type": "stream",
          "text": [
            "Starting training for experiment 1\n",
            "Early stopping at 367 epochs\n",
            "Leaderboard:  Test Acc=0.7174 +/- 0.0029, Val Acc=0.73 +/- 0.0017\n",
            "Yours:        Test Acc=0.7247,            Val Acc=0.7357\n",
            "\n",
            "Training complete\n",
            "\n",
            "Starting training for experiment 2\n",
            "Early stopping at 220 epochs\n",
            "Leaderboard:  Test Acc=0.7174 +/- 0.0029, Val Acc=0.73 +/- 0.0017\n",
            "Yours:        Test Acc=0.7211,            Val Acc=0.7319\n",
            "\n",
            "Training complete\n",
            "\n",
            "Starting training for experiment 3\n",
            "Early stopping at 352 epochs\n",
            "Leaderboard:  Test Acc=0.7174 +/- 0.0029, Val Acc=0.73 +/- 0.0017\n",
            "Yours:        Test Acc=0.7287,            Val Acc=0.7360\n",
            "\n",
            "Training complete\n",
            "\n",
            "Starting training for experiment 4\n",
            "Early stopping at 402 epochs\n",
            "Leaderboard:  Test Acc=0.7174 +/- 0.0029, Val Acc=0.73 +/- 0.0017\n",
            "Yours:        Test Acc=0.7227,            Val Acc=0.7366\n",
            "\n",
            "Training complete\n",
            "\n",
            "Starting training for experiment 5\n",
            "Early stopping at 400 epochs\n",
            "Leaderboard:  Test Acc=0.7174 +/- 0.0029, Val Acc=0.73 +/- 0.0017\n",
            "Yours:        Test Acc=0.7248,            Val Acc=0.7354\n",
            "\n",
            "Training complete\n",
            "\n",
            "Starting training for experiment 6\n",
            "Early stopping at 219 epochs\n",
            "Leaderboard:  Test Acc=0.7174 +/- 0.0029, Val Acc=0.73 +/- 0.0017\n",
            "Yours:        Test Acc=0.7174,            Val Acc=0.7323\n",
            "\n",
            "Training complete\n",
            "\n",
            "Starting training for experiment 7\n",
            "Early stopping at 315 epochs\n",
            "Leaderboard:  Test Acc=0.7174 +/- 0.0029, Val Acc=0.73 +/- 0.0017\n",
            "Yours:        Test Acc=0.7221,            Val Acc=0.7341\n",
            "\n",
            "Training complete\n",
            "\n",
            "Starting training for experiment 8\n",
            "Early stopping at 387 epochs\n",
            "Leaderboard:  Test Acc=0.7174 +/- 0.0029, Val Acc=0.73 +/- 0.0017\n",
            "Yours:        Test Acc=0.7237,            Val Acc=0.7372\n",
            "\n",
            "Training complete\n",
            "\n",
            "Starting training for experiment 9\n",
            "Early stopping at 341 epochs\n",
            "Leaderboard:  Test Acc=0.7174 +/- 0.0029, Val Acc=0.73 +/- 0.0017\n",
            "Yours:        Test Acc=0.7251,            Val Acc=0.7368\n",
            "\n",
            "Training complete\n",
            "\n",
            "Starting training for experiment 10\n",
            "Early stopping at 361 epochs\n",
            "Leaderboard:  Test Acc=0.7174 +/- 0.0029, Val Acc=0.73 +/- 0.0017\n",
            "Yours:        Test Acc=0.7206,            Val Acc=0.7346\n",
            "\n",
            "Training complete\n",
            "\n"
          ]
        }
      ],
      "source": [
        "df_linear = get_experiment_stats(\n",
        "    model_cls=GCNwLinear, model_args=model_linear_kwargs,\n",
        "    train_args=train_linear_args, n_experiments=10\n",
        ")"
      ]
    },
    {
      "cell_type": "code",
      "execution_count": null,
      "metadata": {
        "id": "1imMlI23Wg_5",
        "outputId": "6e6a5d00-8008-40e6-9860-82cb852e3fbb"
      },
      "outputs": [
        {
          "data": {
            "image/png": "[encoded data removed]",
            "text/plain": [
              "<Figure size 432x288 with 1 Axes>"
            ]
          },
          "metadata": {
            "needs_background": "light"
          },
          "output_type": "display_data"
        }
      ],
      "source": [
        "norm_plot(\n",
        "    [\n",
        "        (test_acc_lb, test_acc_lb_var, 'Leaderboard'), \n",
        "        (df_gcn.loc['mean', 'test_acc'], df_gcn.loc['std', 'test_acc'], 'GCN'),\n",
        "        (df_loge.loc['mean', 'test_acc'], df_loge.loc['std', 'test_acc'], 'Loge Loss Func'), \n",
        "        (df_linear.loc['mean', 'test_acc'], df_linear.loc['std', 'test_acc'], 'Linear Skip'),\n",
        "    ],\n",
        "    'Test Performance'\n",
        ")"
      ]
    },
    {
      "cell_type": "code",
      "execution_count": null,
      "metadata": {
        "id": "73JqBwYPWg_6",
        "outputId": "d9124e12-3883-4c12-a262-b026c929c2f9"
      },
      "outputs": [
        {
          "name": "stdout",
          "output_type": "stream",
          "text": [
            "Mean Test Accuracy Improvement: 0.0057\n",
            "Probability that these are the same = 0%\n"
          ]
        }
      ],
      "source": [
        "_, p = stats.ttest_ind_from_stats(\n",
        "    test_acc_lb, test_acc_lb_var, 10,\n",
        "    df_linear.loc['mean', 'test_acc'], df_linear.loc['std', 'test_acc'], 10,\n",
        "    equal_var=False, #alternative='two-sided',\n",
        ")\n",
        "print(f\"Mean Test Accuracy Improvement: {(df_linear.loc['mean', 'test_acc'] - test_acc_lb):.4f}\")\n",
        "print(f\"Probability that these are the same = {p*100:.0f}%\")"
      ]
    },
    {
      "cell_type": "markdown",
      "metadata": {
        "id": "sNgXEjOaWg_6"
      },
      "source": [
        "### Results summary\n",
        "Although your results might be different, I achieve a mean Test performance of 0.7231 +/- 0.0031.  As of the time of writing, GCN is at position 39 on the leaderboard, but we would be placed at position 30 with these improvements.  The authors of the \"Bag of Tricks\" paper are in position 23 with mean Test performance of 0.7306."
      ]
    },
    {
      "cell_type": "markdown",
      "metadata": {
        "id": "zNTO2v-JWg_6"
      },
      "source": [
        "# Extra Credit\n",
        "There are at least two paths you can take:  \n",
        "\n",
        "## More \"Bag of Tricks\" improvements\n",
        "We implemented the \"Loge\" loss function and added the \"Linear + Skip Connections\" component, but there are many other tweaks presented in the paper, some of which are already on the leaderboard and demonstrate significant gains.  Some specific ideas:\n",
        "- Implement \"Label as input\", where the training set is randomly split such that half the nodes use a one-hot-encoding of the label as an input feature and the other half use dummy values of zeros.  This is an attempt to bring the benefits of Label Propagation to GNNs\n",
        "- Implement \"Label reuse\", where instead of using dummy values for half of the training data's \"label features\", you instead use model predictions from the previous iteration (i.e., \"soft labels\")\n",
        "- Switch from GCN layers to Graph Attention Networks (GAT) and implement the tricks presented in the paper, like using the symmetric normalized adjacency matrix\n",
        "\n",
        "## Find another paper\n",
        "The Leaderboard contains a wide variety of approaches, all with linked papers and code.  Look around and choose one that's interesting.  For example, many top positions as of this writing appear to use self-Knowledge Distillation (\"self-KD\"), so this may be worth exploring."
      ]
    },
    {
      "cell_type": "code",
      "execution_count": null,
      "metadata": {
        "id": "-yhf-jPXWg_7"
      },
      "outputs": [],
      "source": [
        "# TODO"
      ]
    }
  ],
  "metadata": {
    "kernelspec": {
      "display_name": "conda_pytorch_latest_p36",
      "language": "python",
      "name": "conda_pytorch_latest_p36"
    },
    "language_info": {
      "codemirror_mode": {
        "name": "ipython",
        "version": 3
      },
      "file_extension": ".py",
      "mimetype": "text/x-python",
      "name": "python",
      "nbconvert_exporter": "python",
      "pygments_lexer": "ipython3",
      "version": "3.6.13"
    },
    "colab": {
      "name": "ogb_arxiv_template.ipynb",
      "provenance": [],
      "collapsed_sections": [
        "sNgXEjOaWg_6"
      ],
      "include_colab_link": true
    },
    "accelerator": "GPU"
  },
  "nbformat": 4,
  "nbformat_minor": 0
}